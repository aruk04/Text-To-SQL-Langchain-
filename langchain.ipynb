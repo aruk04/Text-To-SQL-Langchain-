{
 "cells": [
  {
   "cell_type": "code",
   "execution_count": null,
   "id": "51cdd806",
   "metadata": {},
   "outputs": [
    {
     "name": "stderr",
     "output_type": "stream",
     "text": [
      "c:\\Users\\ashir\\OneDrive\\Desktop\\text2sql\\Text-to-SQL-Chatbot\\text2sql\\Lib\\site-packages\\tqdm\\auto.py:21: TqdmWarning: IProgress not found. Please update jupyter and ipywidgets. See https://ipywidgets.readthedocs.io/en/stable/user_install.html\n",
      "  from .autonotebook import tqdm as notebook_tqdm\n"
     ]
    }
   ],
   "source": [
    "from langchain_community.utilities import SQLDatabase\n",
    "\n",
    "\n",
    "from langchain_core.prompts import ChatPromptTemplate\n"
   ]
  },
  {
   "cell_type": "code",
   "execution_count": 4,
   "id": "e6aed88c",
   "metadata": {},
   "outputs": [
    {
     "name": "stdout",
     "output_type": "stream",
     "text": [
      "Requirement already satisfied: langchain_google_genai in c:\\users\\ashir\\onedrive\\desktop\\text2sql\\text-to-sql-chatbot\\text2sql\\lib\\site-packages (3.0.0)\n",
      "Requirement already satisfied: langchain-core<2.0.0,>=1.0.0 in c:\\users\\ashir\\onedrive\\desktop\\text2sql\\text-to-sql-chatbot\\text2sql\\lib\\site-packages (from langchain_google_genai) (1.0.1)\n",
      "Requirement already satisfied: google-ai-generativelanguage<1.0.0,>=0.7.0 in c:\\users\\ashir\\onedrive\\desktop\\text2sql\\text-to-sql-chatbot\\text2sql\\lib\\site-packages (from langchain_google_genai) (0.9.0)\n",
      "Requirement already satisfied: pydantic<3.0.0,>=2.0.0 in c:\\users\\ashir\\onedrive\\desktop\\text2sql\\text-to-sql-chatbot\\text2sql\\lib\\site-packages (from langchain_google_genai) (2.12.3)\n",
      "Requirement already satisfied: filetype<2.0.0,>=1.2.0 in c:\\users\\ashir\\onedrive\\desktop\\text2sql\\text-to-sql-chatbot\\text2sql\\lib\\site-packages (from langchain_google_genai) (1.2.0)\n",
      "Requirement already satisfied: google-api-core!=2.0.*,!=2.1.*,!=2.10.*,!=2.2.*,!=2.3.*,!=2.4.*,!=2.5.*,!=2.6.*,!=2.7.*,!=2.8.*,!=2.9.*,<3.0.0,>=1.34.1 in c:\\users\\ashir\\onedrive\\desktop\\text2sql\\text-to-sql-chatbot\\text2sql\\lib\\site-packages (from google-api-core[grpc]!=2.0.*,!=2.1.*,!=2.10.*,!=2.2.*,!=2.3.*,!=2.4.*,!=2.5.*,!=2.6.*,!=2.7.*,!=2.8.*,!=2.9.*,<3.0.0,>=1.34.1->google-ai-generativelanguage<1.0.0,>=0.7.0->langchain_google_genai) (2.27.0)\n",
      "Requirement already satisfied: google-auth!=2.24.0,!=2.25.0,<3.0.0,>=2.14.1 in c:\\users\\ashir\\onedrive\\desktop\\text2sql\\text-to-sql-chatbot\\text2sql\\lib\\site-packages (from google-ai-generativelanguage<1.0.0,>=0.7.0->langchain_google_genai) (2.41.1)\n",
      "Requirement already satisfied: grpcio<2.0.0,>=1.33.2 in c:\\users\\ashir\\onedrive\\desktop\\text2sql\\text-to-sql-chatbot\\text2sql\\lib\\site-packages (from google-ai-generativelanguage<1.0.0,>=0.7.0->langchain_google_genai) (1.76.0)\n",
      "Requirement already satisfied: proto-plus<2.0.0,>=1.22.3 in c:\\users\\ashir\\onedrive\\desktop\\text2sql\\text-to-sql-chatbot\\text2sql\\lib\\site-packages (from google-ai-generativelanguage<1.0.0,>=0.7.0->langchain_google_genai) (1.26.1)\n",
      "Requirement already satisfied: protobuf!=4.21.0,!=4.21.1,!=4.21.2,!=4.21.3,!=4.21.4,!=4.21.5,<7.0.0,>=3.20.2 in c:\\users\\ashir\\onedrive\\desktop\\text2sql\\text-to-sql-chatbot\\text2sql\\lib\\site-packages (from google-ai-generativelanguage<1.0.0,>=0.7.0->langchain_google_genai) (6.33.0)\n",
      "Requirement already satisfied: googleapis-common-protos<2.0.0,>=1.56.2 in c:\\users\\ashir\\onedrive\\desktop\\text2sql\\text-to-sql-chatbot\\text2sql\\lib\\site-packages (from google-api-core!=2.0.*,!=2.1.*,!=2.10.*,!=2.2.*,!=2.3.*,!=2.4.*,!=2.5.*,!=2.6.*,!=2.7.*,!=2.8.*,!=2.9.*,<3.0.0,>=1.34.1->google-api-core[grpc]!=2.0.*,!=2.1.*,!=2.10.*,!=2.2.*,!=2.3.*,!=2.4.*,!=2.5.*,!=2.6.*,!=2.7.*,!=2.8.*,!=2.9.*,<3.0.0,>=1.34.1->google-ai-generativelanguage<1.0.0,>=0.7.0->langchain_google_genai) (1.71.0)\n",
      "Requirement already satisfied: requests<3.0.0,>=2.18.0 in c:\\users\\ashir\\onedrive\\desktop\\text2sql\\text-to-sql-chatbot\\text2sql\\lib\\site-packages (from google-api-core!=2.0.*,!=2.1.*,!=2.10.*,!=2.2.*,!=2.3.*,!=2.4.*,!=2.5.*,!=2.6.*,!=2.7.*,!=2.8.*,!=2.9.*,<3.0.0,>=1.34.1->google-api-core[grpc]!=2.0.*,!=2.1.*,!=2.10.*,!=2.2.*,!=2.3.*,!=2.4.*,!=2.5.*,!=2.6.*,!=2.7.*,!=2.8.*,!=2.9.*,<3.0.0,>=1.34.1->google-ai-generativelanguage<1.0.0,>=0.7.0->langchain_google_genai) (2.32.5)\n",
      "Requirement already satisfied: grpcio-status<2.0.0,>=1.33.2 in c:\\users\\ashir\\onedrive\\desktop\\text2sql\\text-to-sql-chatbot\\text2sql\\lib\\site-packages (from google-api-core[grpc]!=2.0.*,!=2.1.*,!=2.10.*,!=2.2.*,!=2.3.*,!=2.4.*,!=2.5.*,!=2.6.*,!=2.7.*,!=2.8.*,!=2.9.*,<3.0.0,>=1.34.1->google-ai-generativelanguage<1.0.0,>=0.7.0->langchain_google_genai) (1.76.0)\n",
      "Requirement already satisfied: cachetools<7.0,>=2.0.0 in c:\\users\\ashir\\onedrive\\desktop\\text2sql\\text-to-sql-chatbot\\text2sql\\lib\\site-packages (from google-auth!=2.24.0,!=2.25.0,<3.0.0,>=2.14.1->google-ai-generativelanguage<1.0.0,>=0.7.0->langchain_google_genai) (6.2.1)\n",
      "Requirement already satisfied: pyasn1-modules>=0.2.1 in c:\\users\\ashir\\onedrive\\desktop\\text2sql\\text-to-sql-chatbot\\text2sql\\lib\\site-packages (from google-auth!=2.24.0,!=2.25.0,<3.0.0,>=2.14.1->google-ai-generativelanguage<1.0.0,>=0.7.0->langchain_google_genai) (0.4.2)\n",
      "Requirement already satisfied: rsa<5,>=3.1.4 in c:\\users\\ashir\\onedrive\\desktop\\text2sql\\text-to-sql-chatbot\\text2sql\\lib\\site-packages (from google-auth!=2.24.0,!=2.25.0,<3.0.0,>=2.14.1->google-ai-generativelanguage<1.0.0,>=0.7.0->langchain_google_genai) (4.9.1)\n",
      "Requirement already satisfied: typing-extensions~=4.12 in c:\\users\\ashir\\onedrive\\desktop\\text2sql\\text-to-sql-chatbot\\text2sql\\lib\\site-packages (from grpcio<2.0.0,>=1.33.2->google-ai-generativelanguage<1.0.0,>=0.7.0->langchain_google_genai) (4.15.0)\n",
      "Requirement already satisfied: jsonpatch<2.0.0,>=1.33.0 in c:\\users\\ashir\\onedrive\\desktop\\text2sql\\text-to-sql-chatbot\\text2sql\\lib\\site-packages (from langchain-core<2.0.0,>=1.0.0->langchain_google_genai) (1.33)\n",
      "Requirement already satisfied: langsmith<1.0.0,>=0.3.45 in c:\\users\\ashir\\onedrive\\desktop\\text2sql\\text-to-sql-chatbot\\text2sql\\lib\\site-packages (from langchain-core<2.0.0,>=1.0.0->langchain_google_genai) (0.4.38)\n",
      "Requirement already satisfied: packaging<26.0.0,>=23.2.0 in c:\\users\\ashir\\onedrive\\desktop\\text2sql\\text-to-sql-chatbot\\text2sql\\lib\\site-packages (from langchain-core<2.0.0,>=1.0.0->langchain_google_genai) (25.0)\n",
      "Requirement already satisfied: pyyaml<7.0.0,>=5.3.0 in c:\\users\\ashir\\onedrive\\desktop\\text2sql\\text-to-sql-chatbot\\text2sql\\lib\\site-packages (from langchain-core<2.0.0,>=1.0.0->langchain_google_genai) (6.0.3)\n",
      "Requirement already satisfied: tenacity!=8.4.0,<10.0.0,>=8.1.0 in c:\\users\\ashir\\onedrive\\desktop\\text2sql\\text-to-sql-chatbot\\text2sql\\lib\\site-packages (from langchain-core<2.0.0,>=1.0.0->langchain_google_genai) (9.1.2)\n",
      "Requirement already satisfied: jsonpointer>=1.9 in c:\\users\\ashir\\onedrive\\desktop\\text2sql\\text-to-sql-chatbot\\text2sql\\lib\\site-packages (from jsonpatch<2.0.0,>=1.33.0->langchain-core<2.0.0,>=1.0.0->langchain_google_genai) (3.0.0)\n",
      "Requirement already satisfied: httpx<1,>=0.23.0 in c:\\users\\ashir\\onedrive\\desktop\\text2sql\\text-to-sql-chatbot\\text2sql\\lib\\site-packages (from langsmith<1.0.0,>=0.3.45->langchain-core<2.0.0,>=1.0.0->langchain_google_genai) (0.28.1)\n",
      "Requirement already satisfied: orjson>=3.9.14 in c:\\users\\ashir\\onedrive\\desktop\\text2sql\\text-to-sql-chatbot\\text2sql\\lib\\site-packages (from langsmith<1.0.0,>=0.3.45->langchain-core<2.0.0,>=1.0.0->langchain_google_genai) (3.11.4)\n",
      "Requirement already satisfied: requests-toolbelt>=1.0.0 in c:\\users\\ashir\\onedrive\\desktop\\text2sql\\text-to-sql-chatbot\\text2sql\\lib\\site-packages (from langsmith<1.0.0,>=0.3.45->langchain-core<2.0.0,>=1.0.0->langchain_google_genai) (1.0.0)\n",
      "Requirement already satisfied: zstandard>=0.23.0 in c:\\users\\ashir\\onedrive\\desktop\\text2sql\\text-to-sql-chatbot\\text2sql\\lib\\site-packages (from langsmith<1.0.0,>=0.3.45->langchain-core<2.0.0,>=1.0.0->langchain_google_genai) (0.25.0)\n",
      "Requirement already satisfied: anyio in c:\\users\\ashir\\onedrive\\desktop\\text2sql\\text-to-sql-chatbot\\text2sql\\lib\\site-packages (from httpx<1,>=0.23.0->langsmith<1.0.0,>=0.3.45->langchain-core<2.0.0,>=1.0.0->langchain_google_genai) (4.11.0)\n",
      "Requirement already satisfied: certifi in c:\\users\\ashir\\onedrive\\desktop\\text2sql\\text-to-sql-chatbot\\text2sql\\lib\\site-packages (from httpx<1,>=0.23.0->langsmith<1.0.0,>=0.3.45->langchain-core<2.0.0,>=1.0.0->langchain_google_genai) (2025.10.5)\n",
      "Requirement already satisfied: httpcore==1.* in c:\\users\\ashir\\onedrive\\desktop\\text2sql\\text-to-sql-chatbot\\text2sql\\lib\\site-packages (from httpx<1,>=0.23.0->langsmith<1.0.0,>=0.3.45->langchain-core<2.0.0,>=1.0.0->langchain_google_genai) (1.0.9)\n",
      "Requirement already satisfied: idna in c:\\users\\ashir\\onedrive\\desktop\\text2sql\\text-to-sql-chatbot\\text2sql\\lib\\site-packages (from httpx<1,>=0.23.0->langsmith<1.0.0,>=0.3.45->langchain-core<2.0.0,>=1.0.0->langchain_google_genai) (3.11)\n",
      "Requirement already satisfied: h11>=0.16 in c:\\users\\ashir\\onedrive\\desktop\\text2sql\\text-to-sql-chatbot\\text2sql\\lib\\site-packages (from httpcore==1.*->httpx<1,>=0.23.0->langsmith<1.0.0,>=0.3.45->langchain-core<2.0.0,>=1.0.0->langchain_google_genai) (0.16.0)\n",
      "Requirement already satisfied: annotated-types>=0.6.0 in c:\\users\\ashir\\onedrive\\desktop\\text2sql\\text-to-sql-chatbot\\text2sql\\lib\\site-packages (from pydantic<3.0.0,>=2.0.0->langchain_google_genai) (0.7.0)\n",
      "Requirement already satisfied: pydantic-core==2.41.4 in c:\\users\\ashir\\onedrive\\desktop\\text2sql\\text-to-sql-chatbot\\text2sql\\lib\\site-packages (from pydantic<3.0.0,>=2.0.0->langchain_google_genai) (2.41.4)\n",
      "Requirement already satisfied: typing-inspection>=0.4.2 in c:\\users\\ashir\\onedrive\\desktop\\text2sql\\text-to-sql-chatbot\\text2sql\\lib\\site-packages (from pydantic<3.0.0,>=2.0.0->langchain_google_genai) (0.4.2)\n",
      "Requirement already satisfied: charset_normalizer<4,>=2 in c:\\users\\ashir\\onedrive\\desktop\\text2sql\\text-to-sql-chatbot\\text2sql\\lib\\site-packages (from requests<3.0.0,>=2.18.0->google-api-core!=2.0.*,!=2.1.*,!=2.10.*,!=2.2.*,!=2.3.*,!=2.4.*,!=2.5.*,!=2.6.*,!=2.7.*,!=2.8.*,!=2.9.*,<3.0.0,>=1.34.1->google-api-core[grpc]!=2.0.*,!=2.1.*,!=2.10.*,!=2.2.*,!=2.3.*,!=2.4.*,!=2.5.*,!=2.6.*,!=2.7.*,!=2.8.*,!=2.9.*,<3.0.0,>=1.34.1->google-ai-generativelanguage<1.0.0,>=0.7.0->langchain_google_genai) (3.4.4)\n",
      "Requirement already satisfied: urllib3<3,>=1.21.1 in c:\\users\\ashir\\onedrive\\desktop\\text2sql\\text-to-sql-chatbot\\text2sql\\lib\\site-packages (from requests<3.0.0,>=2.18.0->google-api-core!=2.0.*,!=2.1.*,!=2.10.*,!=2.2.*,!=2.3.*,!=2.4.*,!=2.5.*,!=2.6.*,!=2.7.*,!=2.8.*,!=2.9.*,<3.0.0,>=1.34.1->google-api-core[grpc]!=2.0.*,!=2.1.*,!=2.10.*,!=2.2.*,!=2.3.*,!=2.4.*,!=2.5.*,!=2.6.*,!=2.7.*,!=2.8.*,!=2.9.*,<3.0.0,>=1.34.1->google-ai-generativelanguage<1.0.0,>=0.7.0->langchain_google_genai) (2.5.0)\n",
      "Requirement already satisfied: pyasn1>=0.1.3 in c:\\users\\ashir\\onedrive\\desktop\\text2sql\\text-to-sql-chatbot\\text2sql\\lib\\site-packages (from rsa<5,>=3.1.4->google-auth!=2.24.0,!=2.25.0,<3.0.0,>=2.14.1->google-ai-generativelanguage<1.0.0,>=0.7.0->langchain_google_genai) (0.6.1)\n",
      "Requirement already satisfied: sniffio>=1.1 in c:\\users\\ashir\\onedrive\\desktop\\text2sql\\text-to-sql-chatbot\\text2sql\\lib\\site-packages (from anyio->httpx<1,>=0.23.0->langsmith<1.0.0,>=0.3.45->langchain-core<2.0.0,>=1.0.0->langchain_google_genai) (1.3.1)\n"
     ]
    }
   ],
   "source": [
    "! pip install langchain_google_genai"
   ]
  },
  {
   "cell_type": "code",
   "execution_count": 5,
   "id": "2552d0b8",
   "metadata": {},
   "outputs": [],
   "source": [
    "from langchain_core.output_parsers import StrOutputParser\n",
    "from langchain_core.runnables import RunnablePassthrough\n",
    "from langchain_google_genai import ChatGoogleGenerativeAI"
   ]
  },
  {
   "cell_type": "code",
   "execution_count": 6,
   "id": "b1cf2e84",
   "metadata": {},
   "outputs": [
    {
     "name": "stdout",
     "output_type": "stream",
     "text": [
      "Requirement already satisfied: pymysql in c:\\users\\ashir\\onedrive\\desktop\\text2sql\\text-to-sql-chatbot\\text2sql\\lib\\site-packages (1.1.2)\n"
     ]
    }
   ],
   "source": [
    "! pip install pymysql"
   ]
  },
  {
   "cell_type": "code",
   "execution_count": 7,
   "id": "281a4387",
   "metadata": {},
   "outputs": [],
   "source": [
    "#connect to db\n",
    "host = \"localhost\"\n",
    "port = \"3306\"\n",
    "username = \"root\"\n",
    "password = \"arushisql\"\n",
    "database_schema = \"text_to_sql\"\n",
    "\n",
    "mysql_uri = f\"mysql+pymysql://{username}:{password}@{host}:{port}/{database_schema}\"\n",
    "\n",
    "db = SQLDatabase.from_uri(mysql_uri, sample_rows_in_table_info= 2)"
   ]
  },
  {
   "cell_type": "code",
   "execution_count": 9,
   "id": "39f78298",
   "metadata": {},
   "outputs": [
    {
     "data": {
      "text/plain": [
       "'\\nCREATE TABLE `2017_budgets` (\\n\\t`Product Name` TEXT, \\n\\t`2017 Budgets` DOUBLE\\n)COLLATE utf8mb4_0900_ai_ci ENGINE=InnoDB DEFAULT CHARSET=utf8mb4\\n\\n/*\\n1 rows from 2017_budgets table:\\nProduct Name\\t2017 Budgets\\nProduct 1\\t3016489.2089999998\\n*/\\n\\n\\nCREATE TABLE customers (\\n\\t`Customer Index` INTEGER, \\n\\t`Customer Names` TEXT\\n)COLLATE utf8mb4_0900_ai_ci ENGINE=InnoDB DEFAULT CHARSET=utf8mb4\\n\\n/*\\n1 rows from customers table:\\nCustomer Index\\tCustomer Names\\n1\\tGeiss Company\\n*/\\n\\n\\nCREATE TABLE products (\\n\\t`Index` INTEGER, \\n\\t`Product Name` TEXT\\n)COLLATE utf8mb4_0900_ai_ci ENGINE=InnoDB DEFAULT CHARSET=utf8mb4\\n\\n/*\\n1 rows from products table:\\nIndex\\tProduct Name\\n1\\tProduct 1\\n*/\\n\\n\\nCREATE TABLE regions (\\n\\tid INTEGER, \\n\\tname TEXT, \\n\\tcounty TEXT, \\n\\tstate_code TEXT, \\n\\tstate TEXT, \\n\\ttype TEXT, \\n\\tlatitude DOUBLE, \\n\\tlongitude DOUBLE, \\n\\tarea_code INTEGER, \\n\\tpopulation INTEGER, \\n\\thouseholds INTEGER, \\n\\tmedian_income INTEGER, \\n\\tland_area INTEGER, \\n\\twater_area INTEGER, \\n\\ttime_zone TEXT\\n)COLLATE utf8mb4_0900_ai_ci ENGINE=InnoDB DEFAULT CHARSET=utf8mb4\\n\\n/*\\n1 rows from regions table:\\nid\\tname\\tcounty\\tstate_code\\tstate\\ttype\\tlatitude\\tlongitude\\tarea_code\\tpopulation\\thouseholds\\tmedian_income\\tland_area\\twater_area\\ttime_zone\\n1\\tAuburn\\tLee County\\tAL\\tAlabama\\tCity\\t32.6098600000\\t-85.4807800000\\t334\\t62059\\t21767\\t38342\\t152375113\\t2646161\\tAmerica/Chicago\\n*/\\n\\n\\nCREATE TABLE sales_order (\\n\\t`OrderNumber` TEXT, \\n\\t`OrderDate` TEXT, \\n\\t`Customer Name Index` INTEGER, \\n\\t`Channel` TEXT, \\n\\t`Currency Code` TEXT, \\n\\t`Warehouse Code` TEXT, \\n\\t`Delivery Region Index` INTEGER, \\n\\t`Product Description Index` INTEGER, \\n\\t`Order Quantity` INTEGER, \\n\\t`Unit Price` DOUBLE, \\n\\t`Line Total` DOUBLE, \\n\\t`Total Unit Cost` DOUBLE\\n)COLLATE utf8mb4_0900_ai_ci ENGINE=InnoDB DEFAULT CHARSET=utf8mb4\\n\\n/*\\n1 rows from sales_order table:\\nOrderNumber\\tOrderDate\\tCustomer Name Index\\tChannel\\tCurrency Code\\tWarehouse Code\\tDelivery Region Index\\tProduct Description Index\\tOrder Quantity\\tUnit Price\\tLine Total\\tTotal Unit Cost\\nSO - 000225\\t2021-01-01\\t126\\tWholesale\\tUSD\\tAXW291\\t364\\t27\\t6\\t2499.1000000000\\t14994.6000000000\\t1824.3430000000\\n*/\\n\\n\\nCREATE TABLE state_regions (\\n\\t`State Code` TEXT, \\n\\t`State` TEXT, \\n\\t`Region` TEXT\\n)COLLATE utf8mb4_0900_ai_ci ENGINE=InnoDB DEFAULT CHARSET=utf8mb4\\n\\n/*\\n1 rows from state_regions table:\\nState Code\\tState\\tRegion\\nAL\\tAlabama\\tSouth\\n*/'"
      ]
     },
     "execution_count": 9,
     "metadata": {},
     "output_type": "execute_result"
    }
   ],
   "source": [
    "db = SQLDatabase.from_uri(mysql_uri, sample_rows_in_table_info= 1)\n",
    "\n",
    "context = db.get_table_info()\n",
    "\n",
    "context"
   ]
  },
  {
   "cell_type": "code",
   "execution_count": 10,
   "id": "bd4886fa",
   "metadata": {},
   "outputs": [],
   "source": [
    "#create LLM prompt template\n",
    "from langchain_core.prompts import ChatPromptTemplate\n",
    "\n",
    "template = \"\"\"Based on the table schema below, write an SQL query that would answer the user's question:\n",
    "Remember : Only provide the sql query, don't include anything else. Provide me sql query in a \n",
    "single line don't add line breaks\n",
    "Table Schema: {schema}\n",
    "Question : {question}\n",
    "SQL Query:\n",
    " \"\"\"\n",
    "\n",
    "prompt = ChatPromptTemplate.from_template(template)"
   ]
  },
  {
   "cell_type": "code",
   "execution_count": 11,
   "id": "73cb63cf",
   "metadata": {},
   "outputs": [],
   "source": [
    "#get the schema of DB\n",
    "def get_schema(db):\n",
    "    schema = db.get_table_info()\n",
    "    return schema"
   ]
  },
  {
   "cell_type": "code",
   "execution_count": null,
   "id": "60afbf44",
   "metadata": {},
   "outputs": [],
   "source": [
    "llm = ChatGoogleGenerativeAI(\n",
    "    model = \"gemini-2.0-flash\",\n",
    "    api_key = \"ABC\"\n",
    ")"
   ]
  },
  {
   "cell_type": "code",
   "execution_count": 13,
   "id": "dcfffc78",
   "metadata": {},
   "outputs": [],
   "source": [
    "# create sql query chain using llm and the prompt template\n",
    "\n",
    "sql_chain = (\n",
    "    RunnablePassthrough.assign(schema = lambda _:get_schema(db))\n",
    "    | prompt\n",
    "    | llm.bind(stop={\"/nSQLResult:\"})\n",
    "    | StrOutputParser()\n",
    ")"
   ]
  },
  {
   "cell_type": "code",
   "execution_count": 14,
   "id": "be71e2f4",
   "metadata": {},
   "outputs": [
    {
     "name": "stdout",
     "output_type": "stream",
     "text": [
      "```sql\n",
      "SELECT sum(T1.`Line Total`) FROM sales_order AS T1 INNER JOIN customers AS T2 ON T1.`Customer Name Index` = T2.`Customer Index` WHERE T2.`Customer Names` = 'Geiss Company'\n",
      "```\n"
     ]
    }
   ],
   "source": [
    "# test sql query chain with sample q\n",
    "\n",
    "resp = sql_chain.invoke({\"question\": \"What is the total 'Line Total' for Geiss Company\"})\n",
    "print(resp)"
   ]
  },
  {
   "cell_type": "code",
   "execution_count": 15,
   "id": "666c176b",
   "metadata": {},
   "outputs": [
    {
     "name": "stdout",
     "output_type": "stream",
     "text": [
      "```sql\n",
      "SELECT `2017 Budgets` FROM `2017_budgets` WHERE `Product Name` = 'Product 12'\n",
      "```\n"
     ]
    }
   ],
   "source": [
    "# test sql query chain with sample q\n",
    "\n",
    "resp = sql_chain.invoke({\"question\": \"What was the budget of Product 12\"})\n",
    "print(resp)"
   ]
  },
  {
   "cell_type": "code",
   "execution_count": 14,
   "id": "05778d32",
   "metadata": {},
   "outputs": [],
   "source": [
    "resp = \"\"\"```sql\n",
    "SELECT `2017 Budgets` FROM `2017_budgets` WHERE `Product Name` = 'Product 12'\n",
    "```\"\"\""
   ]
  },
  {
   "cell_type": "code",
   "execution_count": 16,
   "id": "f539dd20",
   "metadata": {},
   "outputs": [],
   "source": [
    "import re\n",
    "\n",
    "query = re.search(r\"```sql\\s*(.*?)\\s*```\", resp, re.DOTALL | re.IGNORECASE)\n",
    "\n",
    "if query:\n",
    "    query = query.group(1).strip()"
   ]
  },
  {
   "cell_type": "code",
   "execution_count": 17,
   "id": "709397e0",
   "metadata": {},
   "outputs": [
    {
     "data": {
      "text/plain": [
       "'[(1356976.996,)]'"
      ]
     },
     "execution_count": 17,
     "metadata": {},
     "output_type": "execute_result"
    }
   ],
   "source": [
    "db.run(query)"
   ]
  },
  {
   "cell_type": "markdown",
   "id": "a0216cf6",
   "metadata": {},
   "source": [
    "### RAGAS Implementions"
   ]
  },
  {
   "cell_type": "code",
   "execution_count": 17,
   "id": "828ca69b",
   "metadata": {},
   "outputs": [
    {
     "name": "stdout",
     "output_type": "stream",
     "text": [
      "Requirement already satisfied: ragas in c:\\users\\ashir\\onedrive\\desktop\\text2sql\\text-to-sql-chatbot\\text2sql\\lib\\site-packages (0.3.7)\n",
      "Requirement already satisfied: numpy<3.0.0,>=1.21.0 in c:\\users\\ashir\\onedrive\\desktop\\text2sql\\text-to-sql-chatbot\\text2sql\\lib\\site-packages (from ragas) (2.3.4)\n",
      "Requirement already satisfied: datasets>=4.0.0 in c:\\users\\ashir\\onedrive\\desktop\\text2sql\\text-to-sql-chatbot\\text2sql\\lib\\site-packages (from ragas) (4.3.0)\n",
      "Requirement already satisfied: tiktoken in c:\\users\\ashir\\onedrive\\desktop\\text2sql\\text-to-sql-chatbot\\text2sql\\lib\\site-packages (from ragas) (0.12.0)\n",
      "Requirement already satisfied: pydantic>=2.0.0 in c:\\users\\ashir\\onedrive\\desktop\\text2sql\\text-to-sql-chatbot\\text2sql\\lib\\site-packages (from ragas) (2.12.3)\n",
      "Requirement already satisfied: nest-asyncio in c:\\users\\ashir\\onedrive\\desktop\\text2sql\\text-to-sql-chatbot\\text2sql\\lib\\site-packages (from ragas) (1.6.0)\n",
      "Requirement already satisfied: appdirs in c:\\users\\ashir\\onedrive\\desktop\\text2sql\\text-to-sql-chatbot\\text2sql\\lib\\site-packages (from ragas) (1.4.4)\n",
      "Requirement already satisfied: diskcache>=5.6.3 in c:\\users\\ashir\\onedrive\\desktop\\text2sql\\text-to-sql-chatbot\\text2sql\\lib\\site-packages (from ragas) (5.6.3)\n",
      "Requirement already satisfied: typer in c:\\users\\ashir\\onedrive\\desktop\\text2sql\\text-to-sql-chatbot\\text2sql\\lib\\site-packages (from ragas) (0.20.0)\n",
      "Requirement already satisfied: rich in c:\\users\\ashir\\onedrive\\desktop\\text2sql\\text-to-sql-chatbot\\text2sql\\lib\\site-packages (from ragas) (14.2.0)\n",
      "Requirement already satisfied: openai>=1.0.0 in c:\\users\\ashir\\onedrive\\desktop\\text2sql\\text-to-sql-chatbot\\text2sql\\lib\\site-packages (from ragas) (1.109.1)\n",
      "Requirement already satisfied: tqdm in c:\\users\\ashir\\onedrive\\desktop\\text2sql\\text-to-sql-chatbot\\text2sql\\lib\\site-packages (from ragas) (4.67.1)\n",
      "Requirement already satisfied: instructor in c:\\users\\ashir\\onedrive\\desktop\\text2sql\\text-to-sql-chatbot\\text2sql\\lib\\site-packages (from ragas) (1.11.3)\n",
      "Requirement already satisfied: gitpython in c:\\users\\ashir\\onedrive\\desktop\\text2sql\\text-to-sql-chatbot\\text2sql\\lib\\site-packages (from ragas) (3.1.45)\n",
      "Requirement already satisfied: pillow>=10.4.0 in c:\\users\\ashir\\onedrive\\desktop\\text2sql\\text-to-sql-chatbot\\text2sql\\lib\\site-packages (from ragas) (12.0.0)\n",
      "Requirement already satisfied: networkx in c:\\users\\ashir\\onedrive\\desktop\\text2sql\\text-to-sql-chatbot\\text2sql\\lib\\site-packages (from ragas) (3.5)\n",
      "Requirement already satisfied: scikit-network in c:\\users\\ashir\\onedrive\\desktop\\text2sql\\text-to-sql-chatbot\\text2sql\\lib\\site-packages (from ragas) (0.33.3)\n",
      "Requirement already satisfied: langchain in c:\\users\\ashir\\onedrive\\desktop\\text2sql\\text-to-sql-chatbot\\text2sql\\lib\\site-packages (from ragas) (1.0.2)\n",
      "Requirement already satisfied: langchain-core in c:\\users\\ashir\\onedrive\\desktop\\text2sql\\text-to-sql-chatbot\\text2sql\\lib\\site-packages (from ragas) (1.0.1)\n",
      "Requirement already satisfied: langchain-community in c:\\users\\ashir\\onedrive\\desktop\\text2sql\\text-to-sql-chatbot\\text2sql\\lib\\site-packages (from ragas) (0.4)\n",
      "Requirement already satisfied: langchain_openai in c:\\users\\ashir\\onedrive\\desktop\\text2sql\\text-to-sql-chatbot\\text2sql\\lib\\site-packages (from ragas) (1.0.1)\n",
      "Requirement already satisfied: filelock in c:\\users\\ashir\\onedrive\\desktop\\text2sql\\text-to-sql-chatbot\\text2sql\\lib\\site-packages (from datasets>=4.0.0->ragas) (3.20.0)\n",
      "Requirement already satisfied: pyarrow>=21.0.0 in c:\\users\\ashir\\onedrive\\desktop\\text2sql\\text-to-sql-chatbot\\text2sql\\lib\\site-packages (from datasets>=4.0.0->ragas) (22.0.0)\n",
      "Requirement already satisfied: dill<0.4.1,>=0.3.0 in c:\\users\\ashir\\onedrive\\desktop\\text2sql\\text-to-sql-chatbot\\text2sql\\lib\\site-packages (from datasets>=4.0.0->ragas) (0.4.0)\n",
      "Requirement already satisfied: pandas in c:\\users\\ashir\\onedrive\\desktop\\text2sql\\text-to-sql-chatbot\\text2sql\\lib\\site-packages (from datasets>=4.0.0->ragas) (2.3.3)\n",
      "Requirement already satisfied: requests>=2.32.2 in c:\\users\\ashir\\onedrive\\desktop\\text2sql\\text-to-sql-chatbot\\text2sql\\lib\\site-packages (from datasets>=4.0.0->ragas) (2.32.5)\n",
      "Requirement already satisfied: httpx<1.0.0 in c:\\users\\ashir\\onedrive\\desktop\\text2sql\\text-to-sql-chatbot\\text2sql\\lib\\site-packages (from datasets>=4.0.0->ragas) (0.28.1)\n",
      "Requirement already satisfied: xxhash in c:\\users\\ashir\\onedrive\\desktop\\text2sql\\text-to-sql-chatbot\\text2sql\\lib\\site-packages (from datasets>=4.0.0->ragas) (3.6.0)\n",
      "Requirement already satisfied: multiprocess<0.70.17 in c:\\users\\ashir\\onedrive\\desktop\\text2sql\\text-to-sql-chatbot\\text2sql\\lib\\site-packages (from datasets>=4.0.0->ragas) (0.70.16)\n",
      "Requirement already satisfied: fsspec<=2025.9.0,>=2023.1.0 in c:\\users\\ashir\\onedrive\\desktop\\text2sql\\text-to-sql-chatbot\\text2sql\\lib\\site-packages (from fsspec[http]<=2025.9.0,>=2023.1.0->datasets>=4.0.0->ragas) (2025.9.0)\n",
      "Requirement already satisfied: huggingface-hub<2.0,>=0.25.0 in c:\\users\\ashir\\onedrive\\desktop\\text2sql\\text-to-sql-chatbot\\text2sql\\lib\\site-packages (from datasets>=4.0.0->ragas) (0.36.0)\n",
      "Requirement already satisfied: packaging in c:\\users\\ashir\\onedrive\\desktop\\text2sql\\text-to-sql-chatbot\\text2sql\\lib\\site-packages (from datasets>=4.0.0->ragas) (25.0)\n",
      "Requirement already satisfied: pyyaml>=5.1 in c:\\users\\ashir\\onedrive\\desktop\\text2sql\\text-to-sql-chatbot\\text2sql\\lib\\site-packages (from datasets>=4.0.0->ragas) (6.0.3)\n",
      "Requirement already satisfied: aiohttp!=4.0.0a0,!=4.0.0a1 in c:\\users\\ashir\\onedrive\\desktop\\text2sql\\text-to-sql-chatbot\\text2sql\\lib\\site-packages (from fsspec[http]<=2025.9.0,>=2023.1.0->datasets>=4.0.0->ragas) (3.13.1)\n",
      "Requirement already satisfied: anyio in c:\\users\\ashir\\onedrive\\desktop\\text2sql\\text-to-sql-chatbot\\text2sql\\lib\\site-packages (from httpx<1.0.0->datasets>=4.0.0->ragas) (4.11.0)\n",
      "Requirement already satisfied: certifi in c:\\users\\ashir\\onedrive\\desktop\\text2sql\\text-to-sql-chatbot\\text2sql\\lib\\site-packages (from httpx<1.0.0->datasets>=4.0.0->ragas) (2025.10.5)\n",
      "Requirement already satisfied: httpcore==1.* in c:\\users\\ashir\\onedrive\\desktop\\text2sql\\text-to-sql-chatbot\\text2sql\\lib\\site-packages (from httpx<1.0.0->datasets>=4.0.0->ragas) (1.0.9)\n",
      "Requirement already satisfied: idna in c:\\users\\ashir\\onedrive\\desktop\\text2sql\\text-to-sql-chatbot\\text2sql\\lib\\site-packages (from httpx<1.0.0->datasets>=4.0.0->ragas) (3.11)\n",
      "Requirement already satisfied: h11>=0.16 in c:\\users\\ashir\\onedrive\\desktop\\text2sql\\text-to-sql-chatbot\\text2sql\\lib\\site-packages (from httpcore==1.*->httpx<1.0.0->datasets>=4.0.0->ragas) (0.16.0)\n",
      "Requirement already satisfied: typing-extensions>=3.7.4.3 in c:\\users\\ashir\\onedrive\\desktop\\text2sql\\text-to-sql-chatbot\\text2sql\\lib\\site-packages (from huggingface-hub<2.0,>=0.25.0->datasets>=4.0.0->ragas) (4.15.0)\n",
      "Requirement already satisfied: aiohappyeyeballs>=2.5.0 in c:\\users\\ashir\\onedrive\\desktop\\text2sql\\text-to-sql-chatbot\\text2sql\\lib\\site-packages (from aiohttp!=4.0.0a0,!=4.0.0a1->fsspec[http]<=2025.9.0,>=2023.1.0->datasets>=4.0.0->ragas) (2.6.1)\n",
      "Requirement already satisfied: aiosignal>=1.4.0 in c:\\users\\ashir\\onedrive\\desktop\\text2sql\\text-to-sql-chatbot\\text2sql\\lib\\site-packages (from aiohttp!=4.0.0a0,!=4.0.0a1->fsspec[http]<=2025.9.0,>=2023.1.0->datasets>=4.0.0->ragas) (1.4.0)\n",
      "Requirement already satisfied: attrs>=17.3.0 in c:\\users\\ashir\\onedrive\\desktop\\text2sql\\text-to-sql-chatbot\\text2sql\\lib\\site-packages (from aiohttp!=4.0.0a0,!=4.0.0a1->fsspec[http]<=2025.9.0,>=2023.1.0->datasets>=4.0.0->ragas) (25.4.0)\n",
      "Requirement already satisfied: frozenlist>=1.1.1 in c:\\users\\ashir\\onedrive\\desktop\\text2sql\\text-to-sql-chatbot\\text2sql\\lib\\site-packages (from aiohttp!=4.0.0a0,!=4.0.0a1->fsspec[http]<=2025.9.0,>=2023.1.0->datasets>=4.0.0->ragas) (1.8.0)\n",
      "Requirement already satisfied: multidict<7.0,>=4.5 in c:\\users\\ashir\\onedrive\\desktop\\text2sql\\text-to-sql-chatbot\\text2sql\\lib\\site-packages (from aiohttp!=4.0.0a0,!=4.0.0a1->fsspec[http]<=2025.9.0,>=2023.1.0->datasets>=4.0.0->ragas) (6.7.0)\n",
      "Requirement already satisfied: propcache>=0.2.0 in c:\\users\\ashir\\onedrive\\desktop\\text2sql\\text-to-sql-chatbot\\text2sql\\lib\\site-packages (from aiohttp!=4.0.0a0,!=4.0.0a1->fsspec[http]<=2025.9.0,>=2023.1.0->datasets>=4.0.0->ragas) (0.4.1)\n",
      "Requirement already satisfied: yarl<2.0,>=1.17.0 in c:\\users\\ashir\\onedrive\\desktop\\text2sql\\text-to-sql-chatbot\\text2sql\\lib\\site-packages (from aiohttp!=4.0.0a0,!=4.0.0a1->fsspec[http]<=2025.9.0,>=2023.1.0->datasets>=4.0.0->ragas) (1.22.0)\n",
      "Requirement already satisfied: distro<2,>=1.7.0 in c:\\users\\ashir\\onedrive\\desktop\\text2sql\\text-to-sql-chatbot\\text2sql\\lib\\site-packages (from openai>=1.0.0->ragas) (1.9.0)\n",
      "Requirement already satisfied: jiter<1,>=0.4.0 in c:\\users\\ashir\\onedrive\\desktop\\text2sql\\text-to-sql-chatbot\\text2sql\\lib\\site-packages (from openai>=1.0.0->ragas) (0.10.0)\n",
      "Requirement already satisfied: sniffio in c:\\users\\ashir\\onedrive\\desktop\\text2sql\\text-to-sql-chatbot\\text2sql\\lib\\site-packages (from openai>=1.0.0->ragas) (1.3.1)\n",
      "Requirement already satisfied: annotated-types>=0.6.0 in c:\\users\\ashir\\onedrive\\desktop\\text2sql\\text-to-sql-chatbot\\text2sql\\lib\\site-packages (from pydantic>=2.0.0->ragas) (0.7.0)\n",
      "Requirement already satisfied: pydantic-core==2.41.4 in c:\\users\\ashir\\onedrive\\desktop\\text2sql\\text-to-sql-chatbot\\text2sql\\lib\\site-packages (from pydantic>=2.0.0->ragas) (2.41.4)\n",
      "Requirement already satisfied: typing-inspection>=0.4.2 in c:\\users\\ashir\\onedrive\\desktop\\text2sql\\text-to-sql-chatbot\\text2sql\\lib\\site-packages (from pydantic>=2.0.0->ragas) (0.4.2)\n",
      "Requirement already satisfied: charset_normalizer<4,>=2 in c:\\users\\ashir\\onedrive\\desktop\\text2sql\\text-to-sql-chatbot\\text2sql\\lib\\site-packages (from requests>=2.32.2->datasets>=4.0.0->ragas) (3.4.4)\n",
      "Requirement already satisfied: urllib3<3,>=1.21.1 in c:\\users\\ashir\\onedrive\\desktop\\text2sql\\text-to-sql-chatbot\\text2sql\\lib\\site-packages (from requests>=2.32.2->datasets>=4.0.0->ragas) (2.5.0)\n",
      "Requirement already satisfied: colorama in c:\\users\\ashir\\onedrive\\desktop\\text2sql\\text-to-sql-chatbot\\text2sql\\lib\\site-packages (from tqdm->ragas) (0.4.6)\n",
      "Requirement already satisfied: gitdb<5,>=4.0.1 in c:\\users\\ashir\\onedrive\\desktop\\text2sql\\text-to-sql-chatbot\\text2sql\\lib\\site-packages (from gitpython->ragas) (4.0.12)\n",
      "Requirement already satisfied: smmap<6,>=3.0.1 in c:\\users\\ashir\\onedrive\\desktop\\text2sql\\text-to-sql-chatbot\\text2sql\\lib\\site-packages (from gitdb<5,>=4.0.1->gitpython->ragas) (5.0.2)\n",
      "Requirement already satisfied: docstring-parser<1.0,>=0.16 in c:\\users\\ashir\\onedrive\\desktop\\text2sql\\text-to-sql-chatbot\\text2sql\\lib\\site-packages (from instructor->ragas) (0.17.0)\n",
      "Requirement already satisfied: jinja2<4.0.0,>=3.1.4 in c:\\users\\ashir\\onedrive\\desktop\\text2sql\\text-to-sql-chatbot\\text2sql\\lib\\site-packages (from instructor->ragas) (3.1.6)\n",
      "Requirement already satisfied: tenacity<10.0.0,>=8.2.3 in c:\\users\\ashir\\onedrive\\desktop\\text2sql\\text-to-sql-chatbot\\text2sql\\lib\\site-packages (from instructor->ragas) (9.1.2)\n",
      "Requirement already satisfied: MarkupSafe>=2.0 in c:\\users\\ashir\\onedrive\\desktop\\text2sql\\text-to-sql-chatbot\\text2sql\\lib\\site-packages (from jinja2<4.0.0,>=3.1.4->instructor->ragas) (3.0.3)\n",
      "Requirement already satisfied: markdown-it-py>=2.2.0 in c:\\users\\ashir\\onedrive\\desktop\\text2sql\\text-to-sql-chatbot\\text2sql\\lib\\site-packages (from rich->ragas) (4.0.0)\n",
      "Requirement already satisfied: pygments<3.0.0,>=2.13.0 in c:\\users\\ashir\\onedrive\\desktop\\text2sql\\text-to-sql-chatbot\\text2sql\\lib\\site-packages (from rich->ragas) (2.19.2)\n",
      "Requirement already satisfied: click>=8.0.0 in c:\\users\\ashir\\onedrive\\desktop\\text2sql\\text-to-sql-chatbot\\text2sql\\lib\\site-packages (from typer->ragas) (8.3.0)\n",
      "Requirement already satisfied: shellingham>=1.3.0 in c:\\users\\ashir\\onedrive\\desktop\\text2sql\\text-to-sql-chatbot\\text2sql\\lib\\site-packages (from typer->ragas) (1.5.4)\n",
      "Requirement already satisfied: mdurl~=0.1 in c:\\users\\ashir\\onedrive\\desktop\\text2sql\\text-to-sql-chatbot\\text2sql\\lib\\site-packages (from markdown-it-py>=2.2.0->rich->ragas) (0.1.2)\n",
      "Requirement already satisfied: langgraph<1.1.0,>=1.0.0 in c:\\users\\ashir\\onedrive\\desktop\\text2sql\\text-to-sql-chatbot\\text2sql\\lib\\site-packages (from langchain->ragas) (1.0.1)\n",
      "Requirement already satisfied: jsonpatch<2.0.0,>=1.33.0 in c:\\users\\ashir\\onedrive\\desktop\\text2sql\\text-to-sql-chatbot\\text2sql\\lib\\site-packages (from langchain-core->ragas) (1.33)\n",
      "Requirement already satisfied: langsmith<1.0.0,>=0.3.45 in c:\\users\\ashir\\onedrive\\desktop\\text2sql\\text-to-sql-chatbot\\text2sql\\lib\\site-packages (from langchain-core->ragas) (0.4.38)\n",
      "Requirement already satisfied: jsonpointer>=1.9 in c:\\users\\ashir\\onedrive\\desktop\\text2sql\\text-to-sql-chatbot\\text2sql\\lib\\site-packages (from jsonpatch<2.0.0,>=1.33.0->langchain-core->ragas) (3.0.0)\n",
      "Requirement already satisfied: langgraph-checkpoint<4.0.0,>=2.1.0 in c:\\users\\ashir\\onedrive\\desktop\\text2sql\\text-to-sql-chatbot\\text2sql\\lib\\site-packages (from langgraph<1.1.0,>=1.0.0->langchain->ragas) (3.0.0)\n",
      "Requirement already satisfied: langgraph-prebuilt<1.1.0,>=1.0.0 in c:\\users\\ashir\\onedrive\\desktop\\text2sql\\text-to-sql-chatbot\\text2sql\\lib\\site-packages (from langgraph<1.1.0,>=1.0.0->langchain->ragas) (1.0.1)\n",
      "Requirement already satisfied: langgraph-sdk<0.3.0,>=0.2.2 in c:\\users\\ashir\\onedrive\\desktop\\text2sql\\text-to-sql-chatbot\\text2sql\\lib\\site-packages (from langgraph<1.1.0,>=1.0.0->langchain->ragas) (0.2.9)\n",
      "Requirement already satisfied: ormsgpack>=1.10.0 in c:\\users\\ashir\\onedrive\\desktop\\text2sql\\text-to-sql-chatbot\\text2sql\\lib\\site-packages (from langgraph-checkpoint<4.0.0,>=2.1.0->langgraph<1.1.0,>=1.0.0->langchain->ragas) (1.11.0)\n",
      "Requirement already satisfied: orjson>=3.10.1 in c:\\users\\ashir\\onedrive\\desktop\\text2sql\\text-to-sql-chatbot\\text2sql\\lib\\site-packages (from langgraph-sdk<0.3.0,>=0.2.2->langgraph<1.1.0,>=1.0.0->langchain->ragas) (3.11.4)\n",
      "Requirement already satisfied: requests-toolbelt>=1.0.0 in c:\\users\\ashir\\onedrive\\desktop\\text2sql\\text-to-sql-chatbot\\text2sql\\lib\\site-packages (from langsmith<1.0.0,>=0.3.45->langchain-core->ragas) (1.0.0)\n",
      "Requirement already satisfied: zstandard>=0.23.0 in c:\\users\\ashir\\onedrive\\desktop\\text2sql\\text-to-sql-chatbot\\text2sql\\lib\\site-packages (from langsmith<1.0.0,>=0.3.45->langchain-core->ragas) (0.25.0)\n",
      "Requirement already satisfied: langchain-classic<2.0.0,>=1.0.0 in c:\\users\\ashir\\onedrive\\desktop\\text2sql\\text-to-sql-chatbot\\text2sql\\lib\\site-packages (from langchain-community->ragas) (1.0.0)\n",
      "Requirement already satisfied: SQLAlchemy<3.0.0,>=1.4.0 in c:\\users\\ashir\\onedrive\\desktop\\text2sql\\text-to-sql-chatbot\\text2sql\\lib\\site-packages (from langchain-community->ragas) (2.0.44)\n",
      "Requirement already satisfied: dataclasses-json<0.7.0,>=0.6.7 in c:\\users\\ashir\\onedrive\\desktop\\text2sql\\text-to-sql-chatbot\\text2sql\\lib\\site-packages (from langchain-community->ragas) (0.6.7)\n",
      "Requirement already satisfied: pydantic-settings<3.0.0,>=2.10.1 in c:\\users\\ashir\\onedrive\\desktop\\text2sql\\text-to-sql-chatbot\\text2sql\\lib\\site-packages (from langchain-community->ragas) (2.11.0)\n",
      "Requirement already satisfied: httpx-sse<1.0.0,>=0.4.0 in c:\\users\\ashir\\onedrive\\desktop\\text2sql\\text-to-sql-chatbot\\text2sql\\lib\\site-packages (from langchain-community->ragas) (0.4.3)\n",
      "Requirement already satisfied: marshmallow<4.0.0,>=3.18.0 in c:\\users\\ashir\\onedrive\\desktop\\text2sql\\text-to-sql-chatbot\\text2sql\\lib\\site-packages (from dataclasses-json<0.7.0,>=0.6.7->langchain-community->ragas) (3.26.1)\n",
      "Requirement already satisfied: typing-inspect<1,>=0.4.0 in c:\\users\\ashir\\onedrive\\desktop\\text2sql\\text-to-sql-chatbot\\text2sql\\lib\\site-packages (from dataclasses-json<0.7.0,>=0.6.7->langchain-community->ragas) (0.9.0)\n",
      "Requirement already satisfied: langchain-text-splitters<2.0.0,>=1.0.0 in c:\\users\\ashir\\onedrive\\desktop\\text2sql\\text-to-sql-chatbot\\text2sql\\lib\\site-packages (from langchain-classic<2.0.0,>=1.0.0->langchain-community->ragas) (1.0.0)\n",
      "Requirement already satisfied: python-dotenv>=0.21.0 in c:\\users\\ashir\\onedrive\\desktop\\text2sql\\text-to-sql-chatbot\\text2sql\\lib\\site-packages (from pydantic-settings<3.0.0,>=2.10.1->langchain-community->ragas) (1.1.1)\n",
      "Requirement already satisfied: greenlet>=1 in c:\\users\\ashir\\onedrive\\desktop\\text2sql\\text-to-sql-chatbot\\text2sql\\lib\\site-packages (from SQLAlchemy<3.0.0,>=1.4.0->langchain-community->ragas) (3.2.4)\n",
      "Requirement already satisfied: mypy-extensions>=0.3.0 in c:\\users\\ashir\\onedrive\\desktop\\text2sql\\text-to-sql-chatbot\\text2sql\\lib\\site-packages (from typing-inspect<1,>=0.4.0->dataclasses-json<0.7.0,>=0.6.7->langchain-community->ragas) (1.1.0)\n",
      "Requirement already satisfied: regex>=2022.1.18 in c:\\users\\ashir\\onedrive\\desktop\\text2sql\\text-to-sql-chatbot\\text2sql\\lib\\site-packages (from tiktoken->ragas) (2025.10.23)\n",
      "Requirement already satisfied: python-dateutil>=2.8.2 in c:\\users\\ashir\\onedrive\\desktop\\text2sql\\text-to-sql-chatbot\\text2sql\\lib\\site-packages (from pandas->datasets>=4.0.0->ragas) (2.9.0.post0)\n",
      "Requirement already satisfied: pytz>=2020.1 in c:\\users\\ashir\\onedrive\\desktop\\text2sql\\text-to-sql-chatbot\\text2sql\\lib\\site-packages (from pandas->datasets>=4.0.0->ragas) (2025.2)\n",
      "Requirement already satisfied: tzdata>=2022.7 in c:\\users\\ashir\\onedrive\\desktop\\text2sql\\text-to-sql-chatbot\\text2sql\\lib\\site-packages (from pandas->datasets>=4.0.0->ragas) (2025.2)\n",
      "Requirement already satisfied: six>=1.5 in c:\\users\\ashir\\onedrive\\desktop\\text2sql\\text-to-sql-chatbot\\text2sql\\lib\\site-packages (from python-dateutil>=2.8.2->pandas->datasets>=4.0.0->ragas) (1.17.0)\n",
      "Requirement already satisfied: scipy>=1.7.3 in c:\\users\\ashir\\onedrive\\desktop\\text2sql\\text-to-sql-chatbot\\text2sql\\lib\\site-packages (from scikit-network->ragas) (1.16.2)\n"
     ]
    }
   ],
   "source": [
    "\n",
    "! pip install ragas"
   ]
  },
  {
   "cell_type": "code",
   "execution_count": 18,
   "id": "52842774",
   "metadata": {},
   "outputs": [],
   "source": [
    "from ragas.llms import LangchainLLMWrapper\n",
    "from ragas.embeddings import LangchainEmbeddingsWrapper"
   ]
  },
  {
   "cell_type": "code",
   "execution_count": null,
   "id": "8cff34c3",
   "metadata": {},
   "outputs": [],
   "source": [
    "# from Langchain_openai import ChatOpenAI\n",
    "# from langchain_embeddings import OpenAIEmbeddings"
   ]
  },
  {
   "cell_type": "code",
   "execution_count": 19,
   "id": "557b1e5b",
   "metadata": {},
   "outputs": [
    {
     "name": "stdout",
     "output_type": "stream",
     "text": [
      "Requirement already satisfied: langchain-groq in c:\\users\\ashir\\onedrive\\desktop\\text2sql\\text-to-sql-chatbot\\text2sql\\lib\\site-packages (1.0.0)\n",
      "Requirement already satisfied: groq<1.0.0,>=0.30.0 in c:\\users\\ashir\\onedrive\\desktop\\text2sql\\text-to-sql-chatbot\\text2sql\\lib\\site-packages (from langchain-groq) (0.33.0)\n",
      "Requirement already satisfied: langchain-core<2.0.0,>=1.0.0 in c:\\users\\ashir\\onedrive\\desktop\\text2sql\\text-to-sql-chatbot\\text2sql\\lib\\site-packages (from langchain-groq) (1.0.1)\n",
      "Requirement already satisfied: anyio<5,>=3.5.0 in c:\\users\\ashir\\onedrive\\desktop\\text2sql\\text-to-sql-chatbot\\text2sql\\lib\\site-packages (from groq<1.0.0,>=0.30.0->langchain-groq) (4.11.0)\n",
      "Requirement already satisfied: distro<2,>=1.7.0 in c:\\users\\ashir\\onedrive\\desktop\\text2sql\\text-to-sql-chatbot\\text2sql\\lib\\site-packages (from groq<1.0.0,>=0.30.0->langchain-groq) (1.9.0)\n",
      "Requirement already satisfied: httpx<1,>=0.23.0 in c:\\users\\ashir\\onedrive\\desktop\\text2sql\\text-to-sql-chatbot\\text2sql\\lib\\site-packages (from groq<1.0.0,>=0.30.0->langchain-groq) (0.28.1)\n",
      "Requirement already satisfied: pydantic<3,>=1.9.0 in c:\\users\\ashir\\onedrive\\desktop\\text2sql\\text-to-sql-chatbot\\text2sql\\lib\\site-packages (from groq<1.0.0,>=0.30.0->langchain-groq) (2.12.3)\n",
      "Requirement already satisfied: sniffio in c:\\users\\ashir\\onedrive\\desktop\\text2sql\\text-to-sql-chatbot\\text2sql\\lib\\site-packages (from groq<1.0.0,>=0.30.0->langchain-groq) (1.3.1)\n",
      "Requirement already satisfied: typing-extensions<5,>=4.10 in c:\\users\\ashir\\onedrive\\desktop\\text2sql\\text-to-sql-chatbot\\text2sql\\lib\\site-packages (from groq<1.0.0,>=0.30.0->langchain-groq) (4.15.0)\n",
      "Requirement already satisfied: idna>=2.8 in c:\\users\\ashir\\onedrive\\desktop\\text2sql\\text-to-sql-chatbot\\text2sql\\lib\\site-packages (from anyio<5,>=3.5.0->groq<1.0.0,>=0.30.0->langchain-groq) (3.11)\n",
      "Requirement already satisfied: certifi in c:\\users\\ashir\\onedrive\\desktop\\text2sql\\text-to-sql-chatbot\\text2sql\\lib\\site-packages (from httpx<1,>=0.23.0->groq<1.0.0,>=0.30.0->langchain-groq) (2025.10.5)\n",
      "Requirement already satisfied: httpcore==1.* in c:\\users\\ashir\\onedrive\\desktop\\text2sql\\text-to-sql-chatbot\\text2sql\\lib\\site-packages (from httpx<1,>=0.23.0->groq<1.0.0,>=0.30.0->langchain-groq) (1.0.9)\n",
      "Requirement already satisfied: h11>=0.16 in c:\\users\\ashir\\onedrive\\desktop\\text2sql\\text-to-sql-chatbot\\text2sql\\lib\\site-packages (from httpcore==1.*->httpx<1,>=0.23.0->groq<1.0.0,>=0.30.0->langchain-groq) (0.16.0)\n",
      "Requirement already satisfied: jsonpatch<2.0.0,>=1.33.0 in c:\\users\\ashir\\onedrive\\desktop\\text2sql\\text-to-sql-chatbot\\text2sql\\lib\\site-packages (from langchain-core<2.0.0,>=1.0.0->langchain-groq) (1.33)\n",
      "Requirement already satisfied: langsmith<1.0.0,>=0.3.45 in c:\\users\\ashir\\onedrive\\desktop\\text2sql\\text-to-sql-chatbot\\text2sql\\lib\\site-packages (from langchain-core<2.0.0,>=1.0.0->langchain-groq) (0.4.38)\n",
      "Requirement already satisfied: packaging<26.0.0,>=23.2.0 in c:\\users\\ashir\\onedrive\\desktop\\text2sql\\text-to-sql-chatbot\\text2sql\\lib\\site-packages (from langchain-core<2.0.0,>=1.0.0->langchain-groq) (25.0)\n",
      "Requirement already satisfied: pyyaml<7.0.0,>=5.3.0 in c:\\users\\ashir\\onedrive\\desktop\\text2sql\\text-to-sql-chatbot\\text2sql\\lib\\site-packages (from langchain-core<2.0.0,>=1.0.0->langchain-groq) (6.0.3)\n",
      "Requirement already satisfied: tenacity!=8.4.0,<10.0.0,>=8.1.0 in c:\\users\\ashir\\onedrive\\desktop\\text2sql\\text-to-sql-chatbot\\text2sql\\lib\\site-packages (from langchain-core<2.0.0,>=1.0.0->langchain-groq) (9.1.2)\n",
      "Requirement already satisfied: jsonpointer>=1.9 in c:\\users\\ashir\\onedrive\\desktop\\text2sql\\text-to-sql-chatbot\\text2sql\\lib\\site-packages (from jsonpatch<2.0.0,>=1.33.0->langchain-core<2.0.0,>=1.0.0->langchain-groq) (3.0.0)\n",
      "Requirement already satisfied: orjson>=3.9.14 in c:\\users\\ashir\\onedrive\\desktop\\text2sql\\text-to-sql-chatbot\\text2sql\\lib\\site-packages (from langsmith<1.0.0,>=0.3.45->langchain-core<2.0.0,>=1.0.0->langchain-groq) (3.11.4)\n",
      "Requirement already satisfied: requests-toolbelt>=1.0.0 in c:\\users\\ashir\\onedrive\\desktop\\text2sql\\text-to-sql-chatbot\\text2sql\\lib\\site-packages (from langsmith<1.0.0,>=0.3.45->langchain-core<2.0.0,>=1.0.0->langchain-groq) (1.0.0)\n",
      "Requirement already satisfied: requests>=2.0.0 in c:\\users\\ashir\\onedrive\\desktop\\text2sql\\text-to-sql-chatbot\\text2sql\\lib\\site-packages (from langsmith<1.0.0,>=0.3.45->langchain-core<2.0.0,>=1.0.0->langchain-groq) (2.32.5)\n",
      "Requirement already satisfied: zstandard>=0.23.0 in c:\\users\\ashir\\onedrive\\desktop\\text2sql\\text-to-sql-chatbot\\text2sql\\lib\\site-packages (from langsmith<1.0.0,>=0.3.45->langchain-core<2.0.0,>=1.0.0->langchain-groq) (0.25.0)\n",
      "Requirement already satisfied: annotated-types>=0.6.0 in c:\\users\\ashir\\onedrive\\desktop\\text2sql\\text-to-sql-chatbot\\text2sql\\lib\\site-packages (from pydantic<3,>=1.9.0->groq<1.0.0,>=0.30.0->langchain-groq) (0.7.0)\n",
      "Requirement already satisfied: pydantic-core==2.41.4 in c:\\users\\ashir\\onedrive\\desktop\\text2sql\\text-to-sql-chatbot\\text2sql\\lib\\site-packages (from pydantic<3,>=1.9.0->groq<1.0.0,>=0.30.0->langchain-groq) (2.41.4)\n",
      "Requirement already satisfied: typing-inspection>=0.4.2 in c:\\users\\ashir\\onedrive\\desktop\\text2sql\\text-to-sql-chatbot\\text2sql\\lib\\site-packages (from pydantic<3,>=1.9.0->groq<1.0.0,>=0.30.0->langchain-groq) (0.4.2)\n",
      "Requirement already satisfied: charset_normalizer<4,>=2 in c:\\users\\ashir\\onedrive\\desktop\\text2sql\\text-to-sql-chatbot\\text2sql\\lib\\site-packages (from requests>=2.0.0->langsmith<1.0.0,>=0.3.45->langchain-core<2.0.0,>=1.0.0->langchain-groq) (3.4.4)\n",
      "Requirement already satisfied: urllib3<3,>=1.21.1 in c:\\users\\ashir\\onedrive\\desktop\\text2sql\\text-to-sql-chatbot\\text2sql\\lib\\site-packages (from requests>=2.0.0->langsmith<1.0.0,>=0.3.45->langchain-core<2.0.0,>=1.0.0->langchain-groq) (2.5.0)\n"
     ]
    }
   ],
   "source": [
    "! pip install langchain-groq"
   ]
  },
  {
   "cell_type": "code",
   "execution_count": null,
   "id": "de5c4073",
   "metadata": {},
   "outputs": [],
   "source": [
    "from langchain_groq import ChatGroq\n",
    "\n",
    "llm = ChatGoogleGenerativeAI(\n",
    "    model = \"gemini-2.0-flash\",\n",
    "    api_key = \"ABC\"\n",
    ")"
   ]
  },
  {
   "cell_type": "code",
   "execution_count": 21,
   "id": "5e42659d",
   "metadata": {},
   "outputs": [
    {
     "name": "stdout",
     "output_type": "stream",
     "text": [
      "Requirement already satisfied: transformers in c:\\users\\ashir\\onedrive\\desktop\\text2sql\\text-to-sql-chatbot\\text2sql\\lib\\site-packages (4.57.1)\n",
      "Requirement already satisfied: filelock in c:\\users\\ashir\\onedrive\\desktop\\text2sql\\text-to-sql-chatbot\\text2sql\\lib\\site-packages (from transformers) (3.20.0)\n",
      "Requirement already satisfied: huggingface-hub<1.0,>=0.34.0 in c:\\users\\ashir\\onedrive\\desktop\\text2sql\\text-to-sql-chatbot\\text2sql\\lib\\site-packages (from transformers) (0.36.0)\n",
      "Requirement already satisfied: numpy>=1.17 in c:\\users\\ashir\\onedrive\\desktop\\text2sql\\text-to-sql-chatbot\\text2sql\\lib\\site-packages (from transformers) (2.3.4)\n",
      "Requirement already satisfied: packaging>=20.0 in c:\\users\\ashir\\onedrive\\desktop\\text2sql\\text-to-sql-chatbot\\text2sql\\lib\\site-packages (from transformers) (25.0)\n",
      "Requirement already satisfied: pyyaml>=5.1 in c:\\users\\ashir\\onedrive\\desktop\\text2sql\\text-to-sql-chatbot\\text2sql\\lib\\site-packages (from transformers) (6.0.3)\n",
      "Requirement already satisfied: regex!=2019.12.17 in c:\\users\\ashir\\onedrive\\desktop\\text2sql\\text-to-sql-chatbot\\text2sql\\lib\\site-packages (from transformers) (2025.10.23)\n",
      "Requirement already satisfied: requests in c:\\users\\ashir\\onedrive\\desktop\\text2sql\\text-to-sql-chatbot\\text2sql\\lib\\site-packages (from transformers) (2.32.5)\n",
      "Requirement already satisfied: tokenizers<=0.23.0,>=0.22.0 in c:\\users\\ashir\\onedrive\\desktop\\text2sql\\text-to-sql-chatbot\\text2sql\\lib\\site-packages (from transformers) (0.22.1)\n",
      "Requirement already satisfied: safetensors>=0.4.3 in c:\\users\\ashir\\onedrive\\desktop\\text2sql\\text-to-sql-chatbot\\text2sql\\lib\\site-packages (from transformers) (0.6.2)\n",
      "Requirement already satisfied: tqdm>=4.27 in c:\\users\\ashir\\onedrive\\desktop\\text2sql\\text-to-sql-chatbot\\text2sql\\lib\\site-packages (from transformers) (4.67.1)\n",
      "Requirement already satisfied: fsspec>=2023.5.0 in c:\\users\\ashir\\onedrive\\desktop\\text2sql\\text-to-sql-chatbot\\text2sql\\lib\\site-packages (from huggingface-hub<1.0,>=0.34.0->transformers) (2025.9.0)\n",
      "Requirement already satisfied: typing-extensions>=3.7.4.3 in c:\\users\\ashir\\onedrive\\desktop\\text2sql\\text-to-sql-chatbot\\text2sql\\lib\\site-packages (from huggingface-hub<1.0,>=0.34.0->transformers) (4.15.0)\n",
      "Requirement already satisfied: colorama in c:\\users\\ashir\\onedrive\\desktop\\text2sql\\text-to-sql-chatbot\\text2sql\\lib\\site-packages (from tqdm>=4.27->transformers) (0.4.6)\n",
      "Requirement already satisfied: charset_normalizer<4,>=2 in c:\\users\\ashir\\onedrive\\desktop\\text2sql\\text-to-sql-chatbot\\text2sql\\lib\\site-packages (from requests->transformers) (3.4.4)\n",
      "Requirement already satisfied: idna<4,>=2.5 in c:\\users\\ashir\\onedrive\\desktop\\text2sql\\text-to-sql-chatbot\\text2sql\\lib\\site-packages (from requests->transformers) (3.11)\n",
      "Requirement already satisfied: urllib3<3,>=1.21.1 in c:\\users\\ashir\\onedrive\\desktop\\text2sql\\text-to-sql-chatbot\\text2sql\\lib\\site-packages (from requests->transformers) (2.5.0)\n",
      "Requirement already satisfied: certifi>=2017.4.17 in c:\\users\\ashir\\onedrive\\desktop\\text2sql\\text-to-sql-chatbot\\text2sql\\lib\\site-packages (from requests->transformers) (2025.10.5)\n",
      "Requirement already satisfied: torch in c:\\users\\ashir\\onedrive\\desktop\\text2sql\\text-to-sql-chatbot\\text2sql\\lib\\site-packages (2.9.0)\n",
      "Requirement already satisfied: filelock in c:\\users\\ashir\\onedrive\\desktop\\text2sql\\text-to-sql-chatbot\\text2sql\\lib\\site-packages (from torch) (3.20.0)\n",
      "Requirement already satisfied: typing-extensions>=4.10.0 in c:\\users\\ashir\\onedrive\\desktop\\text2sql\\text-to-sql-chatbot\\text2sql\\lib\\site-packages (from torch) (4.15.0)\n",
      "Requirement already satisfied: sympy>=1.13.3 in c:\\users\\ashir\\onedrive\\desktop\\text2sql\\text-to-sql-chatbot\\text2sql\\lib\\site-packages (from torch) (1.14.0)\n",
      "Requirement already satisfied: networkx>=2.5.1 in c:\\users\\ashir\\onedrive\\desktop\\text2sql\\text-to-sql-chatbot\\text2sql\\lib\\site-packages (from torch) (3.5)\n",
      "Requirement already satisfied: jinja2 in c:\\users\\ashir\\onedrive\\desktop\\text2sql\\text-to-sql-chatbot\\text2sql\\lib\\site-packages (from torch) (3.1.6)\n",
      "Requirement already satisfied: fsspec>=0.8.5 in c:\\users\\ashir\\onedrive\\desktop\\text2sql\\text-to-sql-chatbot\\text2sql\\lib\\site-packages (from torch) (2025.9.0)\n",
      "Requirement already satisfied: setuptools in c:\\users\\ashir\\onedrive\\desktop\\text2sql\\text-to-sql-chatbot\\text2sql\\lib\\site-packages (from torch) (80.9.0)\n",
      "Requirement already satisfied: mpmath<1.4,>=1.1.0 in c:\\users\\ashir\\onedrive\\desktop\\text2sql\\text-to-sql-chatbot\\text2sql\\lib\\site-packages (from sympy>=1.13.3->torch) (1.3.0)\n",
      "Requirement already satisfied: MarkupSafe>=2.0 in c:\\users\\ashir\\onedrive\\desktop\\text2sql\\text-to-sql-chatbot\\text2sql\\lib\\site-packages (from jinja2->torch) (3.0.3)\n",
      "Requirement already satisfied: sentence-transformers in c:\\users\\ashir\\onedrive\\desktop\\text2sql\\text-to-sql-chatbot\\text2sql\\lib\\site-packages (5.1.2)\n",
      "Requirement already satisfied: transformers<5.0.0,>=4.41.0 in c:\\users\\ashir\\onedrive\\desktop\\text2sql\\text-to-sql-chatbot\\text2sql\\lib\\site-packages (from sentence-transformers) (4.57.1)\n",
      "Requirement already satisfied: tqdm in c:\\users\\ashir\\onedrive\\desktop\\text2sql\\text-to-sql-chatbot\\text2sql\\lib\\site-packages (from sentence-transformers) (4.67.1)\n",
      "Requirement already satisfied: torch>=1.11.0 in c:\\users\\ashir\\onedrive\\desktop\\text2sql\\text-to-sql-chatbot\\text2sql\\lib\\site-packages (from sentence-transformers) (2.9.0)\n",
      "Requirement already satisfied: scikit-learn in c:\\users\\ashir\\onedrive\\desktop\\text2sql\\text-to-sql-chatbot\\text2sql\\lib\\site-packages (from sentence-transformers) (1.7.2)\n",
      "Requirement already satisfied: scipy in c:\\users\\ashir\\onedrive\\desktop\\text2sql\\text-to-sql-chatbot\\text2sql\\lib\\site-packages (from sentence-transformers) (1.16.2)\n",
      "Requirement already satisfied: huggingface-hub>=0.20.0 in c:\\users\\ashir\\onedrive\\desktop\\text2sql\\text-to-sql-chatbot\\text2sql\\lib\\site-packages (from sentence-transformers) (0.36.0)\n",
      "Requirement already satisfied: Pillow in c:\\users\\ashir\\onedrive\\desktop\\text2sql\\text-to-sql-chatbot\\text2sql\\lib\\site-packages (from sentence-transformers) (11.3.0)\n",
      "Requirement already satisfied: typing_extensions>=4.5.0 in c:\\users\\ashir\\onedrive\\desktop\\text2sql\\text-to-sql-chatbot\\text2sql\\lib\\site-packages (from sentence-transformers) (4.15.0)\n",
      "Requirement already satisfied: filelock in c:\\users\\ashir\\onedrive\\desktop\\text2sql\\text-to-sql-chatbot\\text2sql\\lib\\site-packages (from transformers<5.0.0,>=4.41.0->sentence-transformers) (3.20.0)\n",
      "Requirement already satisfied: numpy>=1.17 in c:\\users\\ashir\\onedrive\\desktop\\text2sql\\text-to-sql-chatbot\\text2sql\\lib\\site-packages (from transformers<5.0.0,>=4.41.0->sentence-transformers) (2.3.4)\n",
      "Requirement already satisfied: packaging>=20.0 in c:\\users\\ashir\\onedrive\\desktop\\text2sql\\text-to-sql-chatbot\\text2sql\\lib\\site-packages (from transformers<5.0.0,>=4.41.0->sentence-transformers) (25.0)\n",
      "Requirement already satisfied: pyyaml>=5.1 in c:\\users\\ashir\\onedrive\\desktop\\text2sql\\text-to-sql-chatbot\\text2sql\\lib\\site-packages (from transformers<5.0.0,>=4.41.0->sentence-transformers) (6.0.3)\n",
      "Requirement already satisfied: regex!=2019.12.17 in c:\\users\\ashir\\onedrive\\desktop\\text2sql\\text-to-sql-chatbot\\text2sql\\lib\\site-packages (from transformers<5.0.0,>=4.41.0->sentence-transformers) (2025.10.23)\n",
      "Requirement already satisfied: requests in c:\\users\\ashir\\onedrive\\desktop\\text2sql\\text-to-sql-chatbot\\text2sql\\lib\\site-packages (from transformers<5.0.0,>=4.41.0->sentence-transformers) (2.32.5)\n",
      "Requirement already satisfied: tokenizers<=0.23.0,>=0.22.0 in c:\\users\\ashir\\onedrive\\desktop\\text2sql\\text-to-sql-chatbot\\text2sql\\lib\\site-packages (from transformers<5.0.0,>=4.41.0->sentence-transformers) (0.22.1)\n",
      "Requirement already satisfied: safetensors>=0.4.3 in c:\\users\\ashir\\onedrive\\desktop\\text2sql\\text-to-sql-chatbot\\text2sql\\lib\\site-packages (from transformers<5.0.0,>=4.41.0->sentence-transformers) (0.6.2)\n",
      "Requirement already satisfied: fsspec>=2023.5.0 in c:\\users\\ashir\\onedrive\\desktop\\text2sql\\text-to-sql-chatbot\\text2sql\\lib\\site-packages (from huggingface-hub>=0.20.0->sentence-transformers) (2025.9.0)\n",
      "Requirement already satisfied: sympy>=1.13.3 in c:\\users\\ashir\\onedrive\\desktop\\text2sql\\text-to-sql-chatbot\\text2sql\\lib\\site-packages (from torch>=1.11.0->sentence-transformers) (1.14.0)\n",
      "Requirement already satisfied: networkx>=2.5.1 in c:\\users\\ashir\\onedrive\\desktop\\text2sql\\text-to-sql-chatbot\\text2sql\\lib\\site-packages (from torch>=1.11.0->sentence-transformers) (3.5)\n",
      "Requirement already satisfied: jinja2 in c:\\users\\ashir\\onedrive\\desktop\\text2sql\\text-to-sql-chatbot\\text2sql\\lib\\site-packages (from torch>=1.11.0->sentence-transformers) (3.1.6)\n",
      "Requirement already satisfied: setuptools in c:\\users\\ashir\\onedrive\\desktop\\text2sql\\text-to-sql-chatbot\\text2sql\\lib\\site-packages (from torch>=1.11.0->sentence-transformers) (80.9.0)\n",
      "Requirement already satisfied: mpmath<1.4,>=1.1.0 in c:\\users\\ashir\\onedrive\\desktop\\text2sql\\text-to-sql-chatbot\\text2sql\\lib\\site-packages (from sympy>=1.13.3->torch>=1.11.0->sentence-transformers) (1.3.0)\n",
      "Requirement already satisfied: colorama in c:\\users\\ashir\\onedrive\\desktop\\text2sql\\text-to-sql-chatbot\\text2sql\\lib\\site-packages (from tqdm->sentence-transformers) (0.4.6)\n",
      "Requirement already satisfied: MarkupSafe>=2.0 in c:\\users\\ashir\\onedrive\\desktop\\text2sql\\text-to-sql-chatbot\\text2sql\\lib\\site-packages (from jinja2->torch>=1.11.0->sentence-transformers) (3.0.3)\n",
      "Requirement already satisfied: charset_normalizer<4,>=2 in c:\\users\\ashir\\onedrive\\desktop\\text2sql\\text-to-sql-chatbot\\text2sql\\lib\\site-packages (from requests->transformers<5.0.0,>=4.41.0->sentence-transformers) (3.4.4)\n",
      "Requirement already satisfied: idna<4,>=2.5 in c:\\users\\ashir\\onedrive\\desktop\\text2sql\\text-to-sql-chatbot\\text2sql\\lib\\site-packages (from requests->transformers<5.0.0,>=4.41.0->sentence-transformers) (3.11)\n",
      "Requirement already satisfied: urllib3<3,>=1.21.1 in c:\\users\\ashir\\onedrive\\desktop\\text2sql\\text-to-sql-chatbot\\text2sql\\lib\\site-packages (from requests->transformers<5.0.0,>=4.41.0->sentence-transformers) (2.5.0)\n",
      "Requirement already satisfied: certifi>=2017.4.17 in c:\\users\\ashir\\onedrive\\desktop\\text2sql\\text-to-sql-chatbot\\text2sql\\lib\\site-packages (from requests->transformers<5.0.0,>=4.41.0->sentence-transformers) (2025.10.5)\n",
      "Requirement already satisfied: joblib>=1.2.0 in c:\\users\\ashir\\onedrive\\desktop\\text2sql\\text-to-sql-chatbot\\text2sql\\lib\\site-packages (from scikit-learn->sentence-transformers) (1.5.2)\n",
      "Requirement already satisfied: threadpoolctl>=3.1.0 in c:\\users\\ashir\\onedrive\\desktop\\text2sql\\text-to-sql-chatbot\\text2sql\\lib\\site-packages (from scikit-learn->sentence-transformers) (3.6.0)\n"
     ]
    }
   ],
   "source": [
    "! pip install transformers\n",
    "! pip install torch\n",
    "! pip install sentence-transformers"
   ]
  },
  {
   "cell_type": "code",
   "execution_count": 22,
   "id": "965aa321",
   "metadata": {},
   "outputs": [],
   "source": [
    "# from langchain.embeddings import HuggingFaceEmbeddings\n",
    "\n",
    "# embeddings = HuggingFaceEmbeddings(model_name = \"sentence-transformer/all-mpnet-base-v2\")\n",
    "\n",
    "from sentence_transformers import SentenceTransformer\n",
    "\n",
    "model = SentenceTransformer(\"all-mpnet-base-v2\")"
   ]
  },
  {
   "cell_type": "code",
   "execution_count": 23,
   "id": "db8069e7",
   "metadata": {},
   "outputs": [
    {
     "name": "stderr",
     "output_type": "stream",
     "text": [
      "C:\\Users\\ashir\\AppData\\Local\\Temp\\ipykernel_17016\\3148150208.py:4: DeprecationWarning: LangchainEmbeddingsWrapper is deprecated and will be removed in a future version. Use the modern embedding providers instead: embedding_factory('openai', model='text-embedding-3-small', client=openai_client) or from ragas.embeddings import OpenAIEmbeddings, GoogleEmbeddings, HuggingFaceEmbeddings\n",
      "  embeddings = LangchainEmbeddingsWrapper(model)\n"
     ]
    }
   ],
   "source": [
    "# evaluator_llm = LangchainLLMWrapper(llm)\n",
    "# evaluator_embeddings = LangchainEmbeddingsWrapper(embeddings)\n",
    "\n",
    "embeddings = LangchainEmbeddingsWrapper(model)"
   ]
  },
  {
   "cell_type": "code",
   "execution_count": 24,
   "id": "3d2fe334",
   "metadata": {},
   "outputs": [
    {
     "name": "stderr",
     "output_type": "stream",
     "text": [
      "C:\\Users\\ashir\\AppData\\Local\\Temp\\ipykernel_17016\\2998763756.py:1: DeprecationWarning: LangchainLLMWrapper is deprecated and will be removed in a future version. Use the modern LLM providers instead: from ragas.llms.base import llm_factory; llm = llm_factory('gpt-4o-mini') or from ragas.llms.base import instructor_llm_factory; llm = instructor_llm_factory('openai', client=openai_client)\n",
      "  evaluator_llm = LangchainLLMWrapper(llm)\n"
     ]
    }
   ],
   "source": [
    "evaluator_llm = LangchainLLMWrapper(llm)"
   ]
  },
  {
   "cell_type": "code",
   "execution_count": 25,
   "id": "f9e5408c",
   "metadata": {},
   "outputs": [],
   "source": [
    "from ragas import evaluate\n",
    "from ragas.metrics import AspectCritic, RubricsScore\n",
    "\n",
    "maliciousness_definition = (\n",
    "    \"Is the response intended to harm, deceive, or exploit users?\"\n",
    ")\n",
    "\n",
    "\n",
    "aspect_critic = AspectCritic(\n",
    "    name = \"maliciousness\",\n",
    "    definition = maliciousness_definition,\n",
    "    llm = evaluator_llm\n",
    ")\n",
    "\n",
    "\n",
    "# adopt Google's helpfulness_prompt_template\n",
    "\n",
    "helpfulness_rubrics = {\n",
    "    \"score1_description\": \"Response is useless/irrelevant, contains inaccurate/deceptive/misleading information and/or contains harmful/offensive content. The user would feel not at all satisfied with the content in the response.\",\n",
    "    \"score2_description\": \"Response is minimally relevant to the instruction and may provide some vaguely useful information, but it lacks clarity and detail. It might contain minor inaccuracies. The user would feel only slightly satisfied with the content in the response.\",\n",
    "    \"score3_description\": \"Response is relevant to the instruction and provides some useful content, but could be more relevant, well-defined, comprehensive, and/or detailed. The user would feel somewhat satisfied with the content in the response.\",\n",
    "    \"score4_description\": \"Response is very relevant to the instruction, providing clearly defined information that addresses the instruction's core needs.  It may include additional insights that go slightly beyond the immediate instruction.  The user would feel quite satisfied with the content in the response.\",\n",
    "    \"score5_description\": \"Response is useful and very comprehensive with well-defined key details to address the needs in the instruction and usually beyond what explicitly asked. The user would feel very satisfied with the content in the response.\",\n",
    "}\n",
    "\n",
    "rubrics_score = RubricsScore(name=\"helpfulness\", rubrics=helpfulness_rubrics, llm=evaluator_llm) \n"
   ]
  },
  {
   "cell_type": "code",
   "execution_count": 26,
   "id": "765c2b70",
   "metadata": {},
   "outputs": [],
   "source": [
    "from ragas import evaluate\n",
    "from ragas.metrics import ContextPrecision, Faithfulness\n",
    "\n",
    "context_precision = ContextPrecision(llm=evaluator_llm)\n",
    "faithfulness = Faithfulness(llm=evaluator_llm)"
   ]
  },
  {
   "cell_type": "code",
   "execution_count": 27,
   "id": "04c583b6",
   "metadata": {},
   "outputs": [],
   "source": [
    "retrieved_contexts = [context]"
   ]
  },
  {
   "cell_type": "code",
   "execution_count": 28,
   "id": "634ed73f",
   "metadata": {},
   "outputs": [],
   "source": [
    "import re\n",
    "\n",
    "user_inputs = [\n",
    "    \"What was the budget of Product 12\",\n",
    "    \"What are the names of all products in the products table?\",\n",
    "    \"List all customer names from the customers table.\",\n",
    "    \"Find the name and state of all regions in the regions table.\",\n",
    "    \"What is the name of the customer with Customer Index = 1\"\n",
    "]\n",
    "\n",
    "responses = []\n",
    "\n",
    "for question in user_inputs:\n",
    "    resp = sql_chain.invoke({\"question\": question})\n",
    "    match = re.search(r\"```sql\\s*(.*?)\\s*```\", resp, re.DOTALL | re.IGNORECASE)\n",
    "    if match:\n",
    "        query = match.group(1).strip()\n",
    "        responses.append(query)"
   ]
  },
  {
   "cell_type": "code",
   "execution_count": 29,
   "id": "55430de8",
   "metadata": {},
   "outputs": [],
   "source": [
    "references=[\"SELECT `2017 Budgets` FROM `2017_budgets` WHERE `Product Name` = 'Product 12';\",\n",
    "            \"SELECT `Product Name`ROM products;\",\n",
    "            \"SELECT `Customer Names`FROM customers;\",\n",
    "            \"SELECT name, state FROM regions;\",\n",
    "            \"SELECT `Customer Names` FROM customers WHERE `Customer Index` = 1;\"]"
   ]
  },
  {
   "cell_type": "code",
   "execution_count": 30,
   "id": "2427ac04",
   "metadata": {},
   "outputs": [],
   "source": [
    "from ragas.dataset_schema import SingleTurnSample, EvaluationDataset\n",
    "n = len(user_inputs)\n",
    "samples = []\n",
    "\n"
   ]
  },
  {
   "cell_type": "code",
   "execution_count": 31,
   "id": "1c4e8215",
   "metadata": {},
   "outputs": [],
   "source": [
    "for i in range(n):\n",
    "\n",
    "    sample = SingleTurnSample(\n",
    "        user_input=user_inputs[i],\n",
    "        retrieved_contexts=list(retrieved_contexts),\n",
    "        response=responses[i],\n",
    "        reference=references[i],\n",
    "    )\n",
    "    samples.append(sample)"
   ]
  },
  {
   "cell_type": "code",
   "execution_count": 32,
   "id": "6246a3e7",
   "metadata": {},
   "outputs": [
    {
     "data": {
      "text/html": [
       "<div>\n",
       "<style scoped>\n",
       "    .dataframe tbody tr th:only-of-type {\n",
       "        vertical-align: middle;\n",
       "    }\n",
       "\n",
       "    .dataframe tbody tr th {\n",
       "        vertical-align: top;\n",
       "    }\n",
       "\n",
       "    .dataframe thead th {\n",
       "        text-align: right;\n",
       "    }\n",
       "</style>\n",
       "<table border=\"1\" class=\"dataframe\">\n",
       "  <thead>\n",
       "    <tr style=\"text-align: right;\">\n",
       "      <th></th>\n",
       "      <th>user_input</th>\n",
       "      <th>retrieved_contexts</th>\n",
       "      <th>response</th>\n",
       "      <th>reference</th>\n",
       "    </tr>\n",
       "  </thead>\n",
       "  <tbody>\n",
       "    <tr>\n",
       "      <th>0</th>\n",
       "      <td>What was the budget of Product 12</td>\n",
       "      <td>[\\nCREATE TABLE `2017_budgets` (\\n\\t`Product N...</td>\n",
       "      <td>SELECT `2017 Budgets` FROM `2017_budgets` WHER...</td>\n",
       "      <td>SELECT `2017 Budgets` FROM `2017_budgets` WHER...</td>\n",
       "    </tr>\n",
       "    <tr>\n",
       "      <th>1</th>\n",
       "      <td>What are the names of all products in the prod...</td>\n",
       "      <td>[\\nCREATE TABLE `2017_budgets` (\\n\\t`Product N...</td>\n",
       "      <td>SELECT `Product Name` FROM products</td>\n",
       "      <td>SELECT `Product Name`ROM products;</td>\n",
       "    </tr>\n",
       "    <tr>\n",
       "      <th>2</th>\n",
       "      <td>List all customer names from the customers table.</td>\n",
       "      <td>[\\nCREATE TABLE `2017_budgets` (\\n\\t`Product N...</td>\n",
       "      <td>SELECT `Customer Names` FROM customers</td>\n",
       "      <td>SELECT `Customer Names`FROM customers;</td>\n",
       "    </tr>\n",
       "    <tr>\n",
       "      <th>3</th>\n",
       "      <td>Find the name and state of all regions in the ...</td>\n",
       "      <td>[\\nCREATE TABLE `2017_budgets` (\\n\\t`Product N...</td>\n",
       "      <td>SELECT name, state FROM regions</td>\n",
       "      <td>SELECT name, state FROM regions;</td>\n",
       "    </tr>\n",
       "    <tr>\n",
       "      <th>4</th>\n",
       "      <td>What is the name of the customer with Customer...</td>\n",
       "      <td>[\\nCREATE TABLE `2017_budgets` (\\n\\t`Product N...</td>\n",
       "      <td>SELECT `Customer Names` FROM Customers WHERE `...</td>\n",
       "      <td>SELECT `Customer Names` FROM customers WHERE `...</td>\n",
       "    </tr>\n",
       "  </tbody>\n",
       "</table>\n",
       "</div>"
      ],
      "text/plain": [
       "                                          user_input  \\\n",
       "0                  What was the budget of Product 12   \n",
       "1  What are the names of all products in the prod...   \n",
       "2  List all customer names from the customers table.   \n",
       "3  Find the name and state of all regions in the ...   \n",
       "4  What is the name of the customer with Customer...   \n",
       "\n",
       "                                  retrieved_contexts  \\\n",
       "0  [\\nCREATE TABLE `2017_budgets` (\\n\\t`Product N...   \n",
       "1  [\\nCREATE TABLE `2017_budgets` (\\n\\t`Product N...   \n",
       "2  [\\nCREATE TABLE `2017_budgets` (\\n\\t`Product N...   \n",
       "3  [\\nCREATE TABLE `2017_budgets` (\\n\\t`Product N...   \n",
       "4  [\\nCREATE TABLE `2017_budgets` (\\n\\t`Product N...   \n",
       "\n",
       "                                            response  \\\n",
       "0  SELECT `2017 Budgets` FROM `2017_budgets` WHER...   \n",
       "1                SELECT `Product Name` FROM products   \n",
       "2             SELECT `Customer Names` FROM customers   \n",
       "3                    SELECT name, state FROM regions   \n",
       "4  SELECT `Customer Names` FROM Customers WHERE `...   \n",
       "\n",
       "                                           reference  \n",
       "0  SELECT `2017 Budgets` FROM `2017_budgets` WHER...  \n",
       "1                 SELECT `Product Name`ROM products;  \n",
       "2             SELECT `Customer Names`FROM customers;  \n",
       "3                   SELECT name, state FROM regions;  \n",
       "4  SELECT `Customer Names` FROM customers WHERE `...  "
      ]
     },
     "execution_count": 32,
     "metadata": {},
     "output_type": "execute_result"
    }
   ],
   "source": [
    "ragas_eval_dataset = EvaluationDataset(samples=samples)\n",
    "ragas_eval_dataset.to_pandas()"
   ]
  },
  {
   "cell_type": "code",
   "execution_count": 33,
   "id": "0adce1a0",
   "metadata": {},
   "outputs": [
    {
     "name": "stderr",
     "output_type": "stream",
     "text": [
      "Evaluating: 100%|██████████| 10/10 [00:40<00:00,  4.02s/it]\n"
     ]
    },
    {
     "data": {
      "text/plain": [
       "{'context_precision': 1.0000, 'helpfulness': 5.0000}"
      ]
     },
     "execution_count": 33,
     "metadata": {},
     "output_type": "execute_result"
    }
   ],
   "source": [
    "from ragas import evaluate\n",
    "\n",
    "ragas_metrics = [ context_precision, rubrics_score]\n",
    "\n",
    "result = evaluate(\n",
    "    metrics=ragas_metrics,\n",
    "    dataset=ragas_eval_dataset\n",
    ")\n",
    "result"
   ]
  }
 ],
 "metadata": {
  "kernelspec": {
   "display_name": "text2sql",
   "language": "python",
   "name": "python3"
  },
  "language_info": {
   "codemirror_mode": {
    "name": "ipython",
    "version": 3
   },
   "file_extension": ".py",
   "mimetype": "text/x-python",
   "name": "python",
   "nbconvert_exporter": "python",
   "pygments_lexer": "ipython3",
   "version": "3.12.10"
  }
 },
 "nbformat": 4,
 "nbformat_minor": 5
}
